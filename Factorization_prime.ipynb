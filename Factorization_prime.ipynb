{
  "cells": [
    {
      "cell_type": "code",
      "execution_count": null,
      "metadata": {
        "id": "Ri6-qZ2k8zCh"
      },
      "outputs": [],
      "source": [
        "def test(num):\n",
        "  a = 2\n",
        "  soinsu = []\n",
        "  while num != 1:\n",
        "    while num % a != 0:\n",
        "      a += 1\n",
        "    soinsu.append(a) # Append as integer to count easily later\n",
        "    num = num / a\n",
        "\n",
        "  # Count the occurrences of each prime factor\n",
        "  from collections import Counter\n",
        "  soinsu_counts = Counter(soinsu)\n",
        "\n",
        "  # Format the output string with exponents\n",
        "  result_parts = []\n",
        "  for factor, count in sorted(soinsu_counts.items()):\n",
        "    if count == 1:\n",
        "      result_parts.append(str(factor))\n",
        "    else:\n",
        "      result_parts.append(f\"{factor}^{count}\")\n",
        "\n",
        "  return \" × \".join(result_parts)\n",
        "\n",
        "print(test(127323019733204843703270))"
      ]
    },
    {
      "cell_type": "code",
      "execution_count": null,
      "metadata": {
        "id": "AZflWF74Ig-Q"
      },
      "outputs": [],
      "source": [
        "def test(num):\n",
        "  a = 2\n",
        "  soinsu = []\n",
        "  while num != 1:\n",
        "    while num % a != 0:\n",
        "      a += 1\n",
        "    soinsu.append(a)\n",
        "    num = num / a\n",
        "  soinsu.sort()\n",
        "  return \"×\".join(map(str, soinsu))\n",
        "\n",
        "test(123)"
      ]
    }
  ],
  "metadata": {
    "colab": {
      "provenance": [],
      "authorship_tag": "ABX9TyNRUhYTGSJxR5/8m0zZgMO4"
    },
    "kernelspec": {
      "display_name": "Python 3",
      "name": "python3"
    },
    "language_info": {
      "name": "python"
    }
  },
  "nbformat": 4,
  "nbformat_minor": 0
}